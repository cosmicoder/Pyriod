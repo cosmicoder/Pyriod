{
 "cells": [
  {
   "cell_type": "markdown",
   "metadata": {},
   "source": [
    "This first example of the basic usage of the Pyriod package will be demonstrated at the [TASC5/KASC12 workshop](https://web.mit.edu/tasc5/) in Boston 22-26 July 2019.  It shows how to reproduce the frequency analysis of a pulsating helium-atmosphere white dwarf presented in [Bell et al. (A&A, 632, A42)](https://ui.adsabs.harvard.edu/abs/2019A%26A...632A..42B)."
   ]
  },
  {
   "cell_type": "code",
   "execution_count": 1,
   "metadata": {},
   "outputs": [],
   "source": [
    "%matplotlib widget\n",
    "import lightkurve as lk\n",
    "from Pyriod import Pyriod"
   ]
  },
  {
   "cell_type": "code",
   "execution_count": 2,
   "metadata": {},
   "outputs": [],
   "source": [
    "lc = lk.search_lightcurvefile('150808542').download().get_lightcurve(\"PDCSAP_FLUX\").flatten(2161).remove_outliers(5)"
   ]
  },
  {
   "cell_type": "code",
   "execution_count": 3,
   "metadata": {},
   "outputs": [
    {
     "name": "stderr",
     "output_type": "stream",
     "text": [
      "/Users/keatonb/anaconda2/lib/python2.7/site-packages/astropy/stats/lombscargle/implementations/fast_impl.py:123: RuntimeWarning: divide by zero encountered in true_divide\n",
      "  power = (YC * YC / CC + YS * YS / SS)\n"
     ]
    }
   ],
   "source": [
    "pyriod = Pyriod(lc)"
   ]
  },
  {
   "cell_type": "code",
   "execution_count": 4,
   "metadata": {
    "scrolled": false
   },
   "outputs": [
    {
     "data": {
      "application/vnd.jupyter.widget-view+json": {
       "model_id": "34e11c47a1e748f5a276ad50a03a5cd2",
       "version_major": 2,
       "version_minor": 0
      },
      "text/plain": [
       "VkJveChjaGlsZHJlbj0oRHJvcGRvd24oZGVzY3JpcHRpb249dSdUaW1lIFNlcmllcyB0byBEaXNwbGF5OicsIG9wdGlvbnM9KCdPcmlnaW5hbCcsICdSZXNpZHVhbHMnKSwgdmFsdWU9J09yaWfigKY=\n"
      ]
     },
     "metadata": {},
     "output_type": "display_data"
    }
   ],
   "source": [
    "pyriod.TimeSeries()"
   ]
  },
  {
   "cell_type": "code",
   "execution_count": 5,
   "metadata": {
    "scrolled": false
   },
   "outputs": [
    {
     "data": {
      "application/vnd.jupyter.widget-view+json": {
       "model_id": "8eb098b439434b12bd7b1649abb35c95",
       "version_major": 2,
       "version_minor": 0
      },
      "text/plain": [
       "VGFiKGNoaWxkcmVuPShWQm94KGNoaWxkcmVuPShIQm94KGNoaWxkcmVuPShUZXh0KHZhbHVlPXUnMTUzOS44ODY1Mzk1MjUzNTc5JywgZGVzY3JpcHRpb249dSdGcmVxdWVuY3k6JywgcGxhY2XigKY=\n"
      ]
     },
     "metadata": {},
     "output_type": "display_data"
    }
   ],
   "source": [
    "pyriod.Periodogram()"
   ]
  },
  {
   "cell_type": "code",
   "execution_count": 6,
   "metadata": {
    "scrolled": false
   },
   "outputs": [
    {
     "data": {
      "application/vnd.jupyter.widget-view+json": {
       "model_id": "aaddcd8fad774b9093ade8eabb956116",
       "version_major": 2,
       "version_minor": 0
      },
      "text/plain": [
       "SEJveChjaGlsZHJlbj0oQnV0dG9uKGRlc2NyaXB0aW9uPXUnUmVmaW5lIGZpdCcsIGljb249dSdyZWZyZXNoJywgc3R5bGU9QnV0dG9uU3R5bGUoKSwgdG9vbHRpcD11J1JlZmluZSBmaXQgb2bigKY=\n"
      ]
     },
     "metadata": {},
     "output_type": "display_data"
    },
    {
     "data": {
      "application/vnd.jupyter.widget-view+json": {
       "model_id": "1ecb405e8a6341048c5318a7f7f48b24",
       "version_major": 2,
       "version_minor": 0
      },
      "text/plain": [
       "UWdyaWRXaWRnZXQoZ3JpZF9vcHRpb25zPXsnZGVmYXVsdENvbHVtbldpZHRoJzogNjUsICdoaWdobGlnaHRTZWxlY3RlZFJvdyc6IFRydWUsICdlbmFibGVUZXh0U2VsZWN0aW9uT25DZWxscyfigKY=\n"
      ]
     },
     "metadata": {},
     "output_type": "display_data"
    },
    {
     "data": {
      "application/vnd.jupyter.widget-view+json": {
       "model_id": "d6f473d3960c4708bb85d2df09fed706",
       "version_major": 2,
       "version_minor": 0
      },
      "text/plain": [
       "SEJveChjaGlsZHJlbj0oQnV0dG9uKGRlc2NyaXB0aW9uPXUnU2F2ZScsIGljb249dSdzYXZlJywgc3R5bGU9QnV0dG9uU3R5bGUoKSwgdG9vbHRpcD11J1NhdmUgc29sdXRpb24gdG8gY3N2IGbigKY=\n"
      ]
     },
     "metadata": {},
     "output_type": "display_data"
    }
   ],
   "source": [
    "pyriod.Signals()"
   ]
  },
  {
   "cell_type": "code",
   "execution_count": 7,
   "metadata": {},
   "outputs": [
    {
     "data": {
      "application/vnd.jupyter.widget-view+json": {
       "model_id": "88c9107ba6eb4c19b277ba6a0b32c49d",
       "version_major": 2,
       "version_minor": 0
      },
      "text/plain": [
       "VkJveChjaGlsZHJlbj0oSFRNTCh2YWx1ZT11JzIwMTktMTItMjIgMTI6NTk6NTEsNTkwIC0gSU5GTyAtIFB5cmlvZCBvYmplY3QgaW5pdGlhbGl6ZWQuPGJyPlxuJywgZGVzY3JpcHRpb249dSfigKY=\n"
      ]
     },
     "metadata": {},
     "output_type": "display_data"
    }
   ],
   "source": [
    "pyriod.Log()"
   ]
  },
  {
   "cell_type": "code",
   "execution_count": null,
   "metadata": {},
   "outputs": [],
   "source": []
  }
 ],
 "metadata": {
  "kernelspec": {
   "display_name": "Python 2",
   "language": "python",
   "name": "python2"
  },
  "language_info": {
   "codemirror_mode": {
    "name": "ipython",
    "version": 2
   },
   "file_extension": ".py",
   "mimetype": "text/x-python",
   "name": "python",
   "nbconvert_exporter": "python",
   "pygments_lexer": "ipython2",
   "version": "2.7.16"
  }
 },
 "nbformat": 4,
 "nbformat_minor": 2
}
