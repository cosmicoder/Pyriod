{
 "cells": [
  {
   "cell_type": "markdown",
   "metadata": {},
   "source": [
    "This first example of the basic usage of the Pyriod package will be demonstrated at the [TASC5/KASC12 workshop](https://web.mit.edu/tasc5/) in Boston 22-26 July 2019.  It shows how to reproduce the frequency analysis of a pulsating helium-atmosphere white dwarf presented in [Bell et al. (A&A, 632, A42)](https://ui.adsabs.harvard.edu/abs/2019A%26A...632A..42B)."
   ]
  },
  {
   "cell_type": "code",
   "execution_count": 1,
   "metadata": {},
   "outputs": [],
   "source": [
    "%matplotlib widget\n",
    "import lightkurve as lk\n",
    "from Pyriod import Pyriod"
   ]
  },
  {
   "cell_type": "code",
   "execution_count": 2,
   "metadata": {},
   "outputs": [
    {
     "name": "stderr",
     "output_type": "stream",
     "text": [
      "Warning: 31% (6168/19692) of the cadences will be ignored due to the quality mask (quality_bitmask=175).\n"
     ]
    }
   ],
   "source": [
    "lc = lk.search_lightcurvefile('TIC 257459955',mission='TESS',sector=3).download().get_lightcurve(\"PDCSAP_FLUX\").flatten(2161).remove_outliers(5)"
   ]
  },
  {
   "cell_type": "code",
   "execution_count": 3,
   "metadata": {},
   "outputs": [
    {
     "name": "stderr",
     "output_type": "stream",
     "text": [
      "/Users/keatonb/anaconda2/lib/python2.7/site-packages/astropy/stats/lombscargle/implementations/fast_impl.py:94: RuntimeWarning: divide by zero encountered in true_divide\n",
      "  tan_2omega_tau = (S2 - 2 * S * C) / (C2 - (C * C - S * S))\n",
      "/Users/keatonb/anaconda2/lib/python2.7/site-packages/astropy/stats/lombscargle/implementations/fast_impl.py:94: RuntimeWarning: invalid value encountered in true_divide\n",
      "  tan_2omega_tau = (S2 - 2 * S * C) / (C2 - (C * C - S * S))\n",
      "/Users/keatonb/anaconda2/lib/python2.7/site-packages/astropy/stats/lombscargle/implementations/fast_impl.py:123: RuntimeWarning: divide by zero encountered in true_divide\n",
      "  power = (YC * YC / CC + YS * YS / SS)\n",
      "/Users/keatonb/anaconda2/lib/python2.7/site-packages/astropy/stats/lombscargle/implementations/fast_impl.py:123: RuntimeWarning: invalid value encountered in true_divide\n",
      "  power = (YC * YC / CC + YS * YS / SS)\n"
     ]
    }
   ],
   "source": [
    "pyriod = Pyriod(lc)"
   ]
  },
  {
   "cell_type": "code",
   "execution_count": 6,
   "metadata": {},
   "outputs": [
    {
     "data": {
      "application/vnd.jupyter.widget-view+json": {
       "model_id": "3ecac0ac1439473d8183e5e046a388a5",
       "version_major": 2,
       "version_minor": 0
      },
      "text/plain": [
       "VGFiKGNoaWxkcmVuPShWQm94KGNoaWxkcmVuPShEcm9wZG93bihkZXNjcmlwdGlvbj11J1RpbWUgU2VyaWVzIHRvIERpc3BsYXk6Jywgb3B0aW9ucz0oJ09yaWdpbmFsJywgJ1Jlc2lkdWFscyfigKY=\n"
      ]
     },
     "metadata": {},
     "output_type": "display_data"
    }
   ],
   "source": [
    "pyriod.Pyriod()"
   ]
  },
  {
   "cell_type": "code",
   "execution_count": 4,
   "metadata": {
    "scrolled": false
   },
   "outputs": [
    {
     "data": {
      "application/vnd.jupyter.widget-view+json": {
       "model_id": "f4bc7508594c4d7da4d676ddfd4316a9",
       "version_major": 2,
       "version_minor": 0
      },
      "text/plain": [
       "VkJveChjaGlsZHJlbj0oRHJvcGRvd24oZGVzY3JpcHRpb249dSdUaW1lIFNlcmllcyB0byBEaXNwbGF5OicsIG9wdGlvbnM9KCdPcmlnaW5hbCcsICdSZXNpZHVhbHMnKSwgdmFsdWU9J09yaWfigKY=\n"
      ]
     },
     "metadata": {},
     "output_type": "display_data"
    }
   ],
   "source": [
    "pyriod.TimeSeries()"
   ]
  },
  {
   "cell_type": "code",
   "execution_count": 5,
   "metadata": {
    "scrolled": false
   },
   "outputs": [
    {
     "data": {
      "application/vnd.jupyter.widget-view+json": {
       "model_id": "1c997223fb0740b890fe5084ecb8762e",
       "version_major": 2,
       "version_minor": 0
      },
      "text/plain": [
       "VGFiKGNoaWxkcmVuPShWQm94KGNoaWxkcmVuPShIQm94KGNoaWxkcmVuPShUZXh0KHZhbHVlPXUnMTU2MS4xODkxOTgyMTA0OTQ5JywgZGVzY3JpcHRpb249dSdGcmVxdWVuY3k6JywgcGxhY2XigKY=\n"
      ]
     },
     "metadata": {},
     "output_type": "display_data"
    }
   ],
   "source": [
    "pyriod.Periodogram()"
   ]
  },
  {
   "cell_type": "code",
   "execution_count": 5,
   "metadata": {
    "scrolled": false
   },
   "outputs": [
    {
     "data": {
      "application/vnd.jupyter.widget-view+json": {
       "model_id": "7aab55cf2d15429095e07fd0235d4d55",
       "version_major": 2,
       "version_minor": 0
      },
      "text/plain": [
       "VkJveChjaGlsZHJlbj0oSEJveChjaGlsZHJlbj0oQnV0dG9uKGRlc2NyaXB0aW9uPXUnUmVmaW5lIGZpdCcsIGljb249dSdyZWZyZXNoJywgc3R5bGU9QnV0dG9uU3R5bGUoKSwgdG9vbHRpcD3igKY=\n"
      ]
     },
     "metadata": {},
     "output_type": "display_data"
    }
   ],
   "source": [
    "pyriod.Signals()"
   ]
  },
  {
   "cell_type": "code",
   "execution_count": 6,
   "metadata": {},
   "outputs": [
    {
     "data": {
      "application/vnd.jupyter.widget-view+json": {
       "model_id": "42a8725fe25d4420a4e6898efdcca6c4",
       "version_major": 2,
       "version_minor": 0
      },
      "text/plain": [
       "VkJveChjaGlsZHJlbj0oSFRNTCh2YWx1ZT11JzIwMTktMTItMjIgMjA6NTQ6NTYsMjE4IC0gSU5GTyAtIFB5cmlvZCBvYmplY3QgaW5pdGlhbGl6ZWQuPGJyPlxuMjAxOS0xMi0yMiAyMDo1NTrigKY=\n"
      ]
     },
     "metadata": {},
     "output_type": "display_data"
    }
   ],
   "source": [
    "pyriod.Log()"
   ]
  },
  {
   "cell_type": "code",
   "execution_count": null,
   "metadata": {},
   "outputs": [],
   "source": []
  }
 ],
 "metadata": {
  "kernelspec": {
   "display_name": "Python 2",
   "language": "python",
   "name": "python2"
  },
  "language_info": {
   "codemirror_mode": {
    "name": "ipython",
    "version": 2
   },
   "file_extension": ".py",
   "mimetype": "text/x-python",
   "name": "python",
   "nbconvert_exporter": "python",
   "pygments_lexer": "ipython2",
   "version": "2.7.16"
  }
 },
 "nbformat": 4,
 "nbformat_minor": 2
}
